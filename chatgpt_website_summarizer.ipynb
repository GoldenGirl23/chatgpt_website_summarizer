{
  "nbformat": 4,
  "nbformat_minor": 0,
  "metadata": {
    "colab": {
      "provenance": []
    },
    "kernelspec": {
      "name": "python3",
      "display_name": "Python 3"
    },
    "language_info": {
      "name": "python"
    }
  },
  "cells": [
    {
      "cell_type": "code",
      "source": [
        "pip install openai"
      ],
      "metadata": {
        "id": "wgLcfYyXhng1"
      },
      "execution_count": null,
      "outputs": []
    },
    {
      "cell_type": "code",
      "source": [
        "pip install requests beautifulsoup4"
      ],
      "metadata": {
        "id": "2N5HFTECrIZV"
      },
      "execution_count": null,
      "outputs": []
    },
    {
      "cell_type": "code",
      "source": [
        "pip install validators"
      ],
      "metadata": {
        "id": "T-3_fTOB_0s3"
      },
      "execution_count": null,
      "outputs": []
    },
    {
      "cell_type": "code",
      "execution_count": 22,
      "metadata": {
        "id": "e0XYo-wqglNt"
      },
      "outputs": [],
      "source": [
        "import openai\n",
        "import requests\n",
        "import json\n",
        "from bs4 import BeautifulSoup\n",
        "import validators\n",
        "import panel as pn # GUI"
      ]
    },
    {
      "cell_type": "code",
      "source": [
        "openai.api_key = 'ENTER OPENAI API HERE'"
      ],
      "metadata": {
        "id": "mVbhqmWAhgyA"
      },
      "execution_count": 4,
      "outputs": []
    },
    {
      "cell_type": "code",
      "source": [
        "def get_completion(prompt, model=\"gpt-3.5-turbo\", temperature=0, role=\"user\"):\n",
        "    messages = [{\"role\": role, \"content\": prompt}]\n",
        "    response = openai.ChatCompletion.create(\n",
        "        model=model,\n",
        "        messages=messages,\n",
        "        temperature=temperature,\n",
        "    )\n",
        "    return response.choices[0].message[\"content\"]\n",
        "\n",
        "def get_completion_from_messages(messages, model=\"gpt-3.5-turbo\", temperature=0):\n",
        "    response = openai.ChatCompletion.create(\n",
        "        model=model,\n",
        "        messages=messages,\n",
        "        temperature=temperature, # this is the degree of randomness of the model's output\n",
        "    )\n",
        "    # print(str(response.choices[0].message))\n",
        "    return response.choices[0].message[\"content\"]"
      ],
      "metadata": {
        "id": "0gMbjL8Yh9j3"
      },
      "execution_count": 5,
      "outputs": []
    },
    {
      "cell_type": "code",
      "source": [
        "url = 'https://about.fb.com/news/2023/09/new-ray-ban-meta-smart-glasses/'\n",
        "\n",
        "def get_text(url):\n",
        "  response = requests.get(url) # send an HTTP GET request to the URL\n",
        "\n",
        "  if response.status_code == 200: # request successful\n",
        "      soup = BeautifulSoup(response.text, 'html.parser') # parse the HTML content using BeautifulSoup\n",
        "      article_text = soup.get_text() # extract all the text from the parsed HTML\n",
        "      # print(article_text)\n",
        "\n",
        "      return article_text\n",
        "  else:\n",
        "      print(\"Failed to fetch the content. Status code:\", response.status_code)\n"
      ],
      "metadata": {
        "id": "M3dxbUp8rXxz"
      },
      "execution_count": 25,
      "outputs": []
    },
    {
      "cell_type": "code",
      "source": [
        "def collect_messages(_):\n",
        "    prompt = inp.value_input\n",
        "    inp.value = ''\n",
        "    context.append({'role':'user', 'content':f\"{prompt}\"})\n",
        "    response = get_completion_from_messages(context)\n",
        "    context.append({'role':'assistant', 'content':f\"{response}\"})\n",
        "    panels.append(\n",
        "        pn.Row('User:', pn.pane.Markdown(prompt, width=600)))\n",
        "    panels.append(\n",
        "        pn.Row('Assistant:', pn.pane.Markdown(response, width=600, style={'background-color': '#F6F6F6'})))\n",
        "\n",
        "    return pn.Column(*panels)"
      ],
      "metadata": {
        "id": "SJqfg5HRAAn1"
      },
      "execution_count": null,
      "outputs": []
    },
    {
      "cell_type": "code",
      "source": [
        "pn.extension()\n",
        "\n",
        "panels = [] # collect display\n",
        "\n",
        "context = [ {'role':'system', 'content':\"\"\"\n",
        "You are an intelligent website summarizer.\\\n",
        "You greet the user and then ask them to enter the URL of the website in single or double quotes, \\\n",
        "whose content they wish to summarize. Once the URL is provided, the URL will be parsed and \\\n",
        "the HTML text content from the website will be provided to you for summarizing. \\\n",
        "Your job will be to generate and return a concise yet informative summary of the article in \\\n",
        "not more than 10 bullet points. Keep the language formal and follow the logical flow of \\\n",
        "information as in the original article. Also provide a relevant title for your summary. \\\n",
        "You will further offer the following additional options to the user and perform \\\n",
        "the corresponding task they request for: \\\n",
        "1. Translate the summary in a language of their choice. \\\n",
        "2. Paraphrase the summary either in more concise bullets or a paragraph. \\\n",
        "3. Provide further insights and analysis into the topic being discussed in the article, \\\n",
        "such as the tone and sentiment of the article and important themes discussed in the article. \\\n",
        "Keep this short and unbiased, and provide relevant colon-separated labels for what information you are \\\n",
        "providing. For example, format your answer in the following way: Tone: ..., Sentiment:..., \\\n",
        "Themes:... .\n",
        "4. Provide additional facts, figures and information relevant to the topic being discussed \\\n",
        "in the website article.\n",
        "\n",
        "\"\"\"} ]  # accumulate messages\n",
        "\n",
        "\n",
        "inp = pn.widgets.TextInput(value=\"Hi\", placeholder='Enter text here…')\n",
        "button_conversation = pn.widgets.Button(name=\"Enter!\", width=100)\n",
        "\n",
        "interactive_conversation = pn.bind(collect_messages, button_conversation)\n",
        "\n",
        "dashboard = pn.Column(\n",
        "    pn.Row(inp, button_conversation),\n",
        "    pn.panel(interactive_conversation, loading_indicator=True, height=300),\n",
        ")\n",
        "\n",
        "dashboard"
      ],
      "metadata": {
        "id": "kwOf1xCg_6n8"
      },
      "execution_count": null,
      "outputs": []
    }
  ]
}